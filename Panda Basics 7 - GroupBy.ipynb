{
 "cells": [
  {
   "cell_type": "code",
   "execution_count": 75,
   "metadata": {},
   "outputs": [
    {
     "data": {
      "text/html": [
       "<style type='text/css'>\n",
       ".CodeMirror{\n",
       "font-size: 25px;\n",
       "</style>\n"
      ],
      "text/plain": [
       "<IPython.core.display.HTML object>"
      ]
     },
     "metadata": {},
     "output_type": "display_data"
    }
   ],
   "source": []
  },
  {
   "cell_type": "markdown",
   "metadata": {},
   "source": [
    "### Agenda : Grouping DataFrames \n"
   ]
  },
  {
   "cell_type": "code",
   "execution_count": 149,
   "metadata": {},
   "outputs": [],
   "source": [
    "import pandas as pd\n",
    "import numpy as np"
   ]
  },
  {
   "cell_type": "code",
   "execution_count": 150,
   "metadata": {},
   "outputs": [],
   "source": [
    "cricket_players = {\n",
    "    'player_name': ['Sachin', 'Afridi', 'Jaysurya', 'Ponting','Warne','Jadeja'],\n",
    "    'runs': [100, 20, 200, 100,199, 30],\n",
    "    'country': ['IND', 'PAK', 'SRI', 'AUS','AUS' ,'IND'],\n",
    "    'year_of_birth': [1980, 1982, 1970, 1983,1965, 1969]\n",
    "}"
   ]
  },
  {
   "cell_type": "code",
   "execution_count": 151,
   "metadata": {},
   "outputs": [],
   "source": [
    "df = pd.DataFrame(cricket_players)"
   ]
  },
  {
   "cell_type": "code",
   "execution_count": 152,
   "metadata": {},
   "outputs": [
    {
     "data": {
      "text/html": [
       "<div>\n",
       "<style scoped>\n",
       "    .dataframe tbody tr th:only-of-type {\n",
       "        vertical-align: middle;\n",
       "    }\n",
       "\n",
       "    .dataframe tbody tr th {\n",
       "        vertical-align: top;\n",
       "    }\n",
       "\n",
       "    .dataframe thead th {\n",
       "        text-align: right;\n",
       "    }\n",
       "</style>\n",
       "<table border=\"1\" class=\"dataframe\">\n",
       "  <thead>\n",
       "    <tr style=\"text-align: right;\">\n",
       "      <th></th>\n",
       "      <th>player_name</th>\n",
       "      <th>runs</th>\n",
       "      <th>country</th>\n",
       "      <th>year_of_birth</th>\n",
       "    </tr>\n",
       "  </thead>\n",
       "  <tbody>\n",
       "    <tr>\n",
       "      <th>0</th>\n",
       "      <td>Sachin</td>\n",
       "      <td>100</td>\n",
       "      <td>IND</td>\n",
       "      <td>1980</td>\n",
       "    </tr>\n",
       "    <tr>\n",
       "      <th>1</th>\n",
       "      <td>Afridi</td>\n",
       "      <td>20</td>\n",
       "      <td>PAK</td>\n",
       "      <td>1982</td>\n",
       "    </tr>\n",
       "    <tr>\n",
       "      <th>2</th>\n",
       "      <td>Jaysurya</td>\n",
       "      <td>200</td>\n",
       "      <td>SRI</td>\n",
       "      <td>1970</td>\n",
       "    </tr>\n",
       "    <tr>\n",
       "      <th>3</th>\n",
       "      <td>Ponting</td>\n",
       "      <td>100</td>\n",
       "      <td>AUS</td>\n",
       "      <td>1983</td>\n",
       "    </tr>\n",
       "    <tr>\n",
       "      <th>4</th>\n",
       "      <td>Warne</td>\n",
       "      <td>199</td>\n",
       "      <td>AUS</td>\n",
       "      <td>1965</td>\n",
       "    </tr>\n",
       "    <tr>\n",
       "      <th>5</th>\n",
       "      <td>Jadeja</td>\n",
       "      <td>30</td>\n",
       "      <td>IND</td>\n",
       "      <td>1969</td>\n",
       "    </tr>\n",
       "  </tbody>\n",
       "</table>\n",
       "</div>"
      ],
      "text/plain": [
       "  player_name  runs country  year_of_birth\n",
       "0      Sachin   100     IND           1980\n",
       "1      Afridi    20     PAK           1982\n",
       "2    Jaysurya   200     SRI           1970\n",
       "3     Ponting   100     AUS           1983\n",
       "4       Warne   199     AUS           1965\n",
       "5      Jadeja    30     IND           1969"
      ]
     },
     "execution_count": 152,
     "metadata": {},
     "output_type": "execute_result"
    }
   ],
   "source": [
    "df"
   ]
  },
  {
   "cell_type": "code",
   "execution_count": 180,
   "metadata": {},
   "outputs": [
    {
     "data": {
      "text/plain": [
       "player_name      Ponting\n",
       "runs                 100\n",
       "country              AUS\n",
       "year_of_birth       1983\n",
       "Name: 3, dtype: object"
      ]
     },
     "execution_count": 180,
     "metadata": {},
     "output_type": "execute_result"
    }
   ],
   "source": [
    "df.iloc[df['year_of_birth'].idxmax()]"
   ]
  },
  {
   "cell_type": "code",
   "execution_count": 181,
   "metadata": {},
   "outputs": [
    {
     "data": {
      "text/plain": [
       "array(['IND', 'PAK', 'SRI', 'AUS'], dtype=object)"
      ]
     },
     "execution_count": 181,
     "metadata": {},
     "output_type": "execute_result"
    }
   ],
   "source": [
    "df['country'].unique()"
   ]
  },
  {
   "cell_type": "code",
   "execution_count": 184,
   "metadata": {},
   "outputs": [],
   "source": [
    "grouped_data = df.groupby('country')"
   ]
  },
  {
   "cell_type": "code",
   "execution_count": 191,
   "metadata": {},
   "outputs": [
    {
     "name": "stdout",
     "output_type": "stream",
     "text": [
      "player_name      Ponting\n",
      "runs                 100\n",
      "country              AUS\n",
      "year_of_birth       1983\n",
      "Name: 3, dtype: object\n",
      "player_name      Sachin\n",
      "runs                100\n",
      "country             IND\n",
      "year_of_birth      1980\n",
      "Name: 0, dtype: object\n",
      "player_name      Afridi\n",
      "runs                 20\n",
      "country             PAK\n",
      "year_of_birth      1982\n",
      "Name: 1, dtype: object\n",
      "player_name      Jaysurya\n",
      "runs                  200\n",
      "country               SRI\n",
      "year_of_birth        1970\n",
      "Name: 2, dtype: object\n"
     ]
    }
   ],
   "source": [
    "for group_name, group_df in grouped_data:\n",
    "#     print(\"for group:{} details are \\n{}\".format(group_name,group_df))\n",
    "    print(df.iloc[group_df['year_of_birth'].idxmax()])"
   ]
  },
  {
   "cell_type": "code",
   "execution_count": 188,
   "metadata": {},
   "outputs": [
    {
     "data": {
      "text/html": [
       "<div>\n",
       "<style scoped>\n",
       "    .dataframe tbody tr th:only-of-type {\n",
       "        vertical-align: middle;\n",
       "    }\n",
       "\n",
       "    .dataframe tbody tr th {\n",
       "        vertical-align: top;\n",
       "    }\n",
       "\n",
       "    .dataframe thead th {\n",
       "        text-align: right;\n",
       "    }\n",
       "</style>\n",
       "<table border=\"1\" class=\"dataframe\">\n",
       "  <thead>\n",
       "    <tr style=\"text-align: right;\">\n",
       "      <th></th>\n",
       "      <th>player_name</th>\n",
       "      <th>runs</th>\n",
       "      <th>country</th>\n",
       "      <th>year_of_birth</th>\n",
       "    </tr>\n",
       "  </thead>\n",
       "  <tbody>\n",
       "    <tr>\n",
       "      <th>0</th>\n",
       "      <td>Sachin</td>\n",
       "      <td>100</td>\n",
       "      <td>IND</td>\n",
       "      <td>1980</td>\n",
       "    </tr>\n",
       "    <tr>\n",
       "      <th>1</th>\n",
       "      <td>Afridi</td>\n",
       "      <td>20</td>\n",
       "      <td>PAK</td>\n",
       "      <td>1982</td>\n",
       "    </tr>\n",
       "    <tr>\n",
       "      <th>2</th>\n",
       "      <td>Jaysurya</td>\n",
       "      <td>200</td>\n",
       "      <td>SRI</td>\n",
       "      <td>1970</td>\n",
       "    </tr>\n",
       "    <tr>\n",
       "      <th>3</th>\n",
       "      <td>Ponting</td>\n",
       "      <td>100</td>\n",
       "      <td>AUS</td>\n",
       "      <td>1983</td>\n",
       "    </tr>\n",
       "    <tr>\n",
       "      <th>4</th>\n",
       "      <td>Warne</td>\n",
       "      <td>199</td>\n",
       "      <td>AUS</td>\n",
       "      <td>1965</td>\n",
       "    </tr>\n",
       "    <tr>\n",
       "      <th>5</th>\n",
       "      <td>Jadeja</td>\n",
       "      <td>30</td>\n",
       "      <td>IND</td>\n",
       "      <td>1969</td>\n",
       "    </tr>\n",
       "  </tbody>\n",
       "</table>\n",
       "</div>"
      ],
      "text/plain": [
       "  player_name  runs country  year_of_birth\n",
       "0      Sachin   100     IND           1980\n",
       "1      Afridi    20     PAK           1982\n",
       "2    Jaysurya   200     SRI           1970\n",
       "3     Ponting   100     AUS           1983\n",
       "4       Warne   199     AUS           1965\n",
       "5      Jadeja    30     IND           1969"
      ]
     },
     "execution_count": 188,
     "metadata": {},
     "output_type": "execute_result"
    }
   ],
   "source": [
    "df"
   ]
  },
  {
   "cell_type": "code",
   "execution_count": null,
   "metadata": {},
   "outputs": [],
   "source": []
  }
 ],
 "metadata": {
  "kernelspec": {
   "display_name": "Python 3",
   "language": "python",
   "name": "python3"
  },
  "language_info": {
   "codemirror_mode": {
    "name": "ipython",
    "version": 3
   },
   "file_extension": ".py",
   "mimetype": "text/x-python",
   "name": "python",
   "nbconvert_exporter": "python",
   "pygments_lexer": "ipython3",
   "version": "3.7.0"
  }
 },
 "nbformat": 4,
 "nbformat_minor": 4
}
